{
  "cells": [
    {
      "cell_type": "code",
      "execution_count": null,
      "metadata": {
        "id": "9O8NEYg_hcn7"
      },
      "outputs": [],
      "source": [
        "# @title AVL Tree\n",
        "class AVL:\n",
        "  def __init__(self):self.root = None\n",
        "  def insert(self,node):\n",
        "    if self.root : self.root.subtree_insert(node)\n",
        "    else:self.root = node\n",
        "    print(self.pedigree())\n",
        "  def transverse(self):\n",
        "    def Map(node):\n",
        "      if not node :return\n",
        "      Map(node.left),print(node.val),Map(node.right)\n",
        "    Map(self.root) if self.root else None\n",
        "\n",
        "\n",
        "\n",
        "  def pedigree(self):\n",
        "    def register(node,reference,ancestor=None):\n",
        "      if not node : return\n",
        "      if node : reference[node.val] = []\n",
        "      if ancestor : reference[ancestor.val].append(node.val)\n",
        "      register(node.left,reference,node),register(node.right,reference,node)\n",
        "    reference = {}\n",
        "    if self.root : register(self.root,reference)\n",
        "    return reference\n"
      ]
    },
    {
      "cell_type": "code",
      "execution_count": null,
      "metadata": {
        "cellView": "form",
        "id": "MkRKqzhjizni"
      },
      "outputs": [],
      "source": [
        "# @title Binary Node ( first iteration - Foundation)\n",
        "def height(node):return node.height if node else -1\n",
        "class Binary_Node:\n",
        "  def __init__(self,val):\n",
        "    self.val = val\n",
        "    self.left,self.right = None ,None\n",
        "    self.parent = None\n",
        "    self.subtree_update()\n",
        "\n",
        "  def subtree_update(self):self.height = 1 + max(height(self.left),height(self.right))\n",
        "\n",
        "\n",
        "\n",
        "  def subtree_insert(self,node):\n",
        "    if self.val > node.val :\n",
        "      if self.left : self.left.subtree_insert(node)\n",
        "      else:\n",
        "        self.left,node.parent = node ,self\n",
        "\n",
        "    else :\n",
        "      if self.val  < node.val :\n",
        "        if self.right : self.right.subtree_insert(node)\n",
        "        else:\n",
        "          self.right,node.parent = node , self\n"
      ]
    },
    {
      "cell_type": "code",
      "execution_count": null,
      "metadata": {
        "id": "6nWgT9Q91W-R"
      },
      "outputs": [],
      "source": [
        "def height(node):return node.height if node else -1\n",
        "class Binary_Node:\n",
        "  def __init__(self,val):\n",
        "    self.val = val\n",
        "    self.left,self.right,self.parent = None , None , None\n",
        "    self.subtree_update()\n",
        "\n",
        "  def subtree_insert(self,node):\n",
        "    if self.val > node.val :\n",
        "      if self.left :self.left.subtree_insert(node)\n",
        "      else: self.left,node.parent = node,self\n",
        "    elif self.val < node.val :\n",
        "      if self.right : self.right.subtree_insert(node)\n",
        "      else:self.right,node.parent = node,self\n",
        "    node.maintain()\n",
        "\n",
        "  def subtree_update(self):self.height =1 + max(height(self.left),height(self.right))\n",
        "\n",
        "  def skew(self):return height(self.right)-height(self.left)\n",
        "\n",
        "  def maintain(self):\n",
        "    self.rebalance()\n",
        "    self.subtree_update()\n",
        "    if self.parent : self.parent.maintain()\n",
        "\n",
        "  def rebalance(self):\n",
        "    if self.skew()==2 :\n",
        "      if self.right.skew() <0 : self.right.subtree_rotate_right()\n",
        "      self.subtree_rotate_left()\n",
        "    elif self.skew()==-2:\n",
        "      if self.left.skew() > 0 :self.left.subtree_rotate_left()\n",
        "      self.subtree_rotate_right()\n",
        "\n",
        "\n",
        "  def subtree_rotate_right(self):\n",
        "    assert self.left\n",
        "    D = self\n",
        "    B,E =  D.left,D.right\n",
        "    A,C = B.left,B.right\n",
        "\n",
        "    B,D = D,B\n",
        "    B.val , D.val = D.val , B.val\n",
        "\n",
        "    B.left,B.right = A,  D\n",
        "    D.left,D.right  = C,E\n",
        "\n",
        "    if A  : A.parent = B\n",
        "    if E : E.parent = D\n",
        "\n",
        "    D.subtree_update,B.subtree_update()\n",
        "\n",
        "  def subtree_rotate_left(self):\n",
        "    assert self.right\n",
        "    B = self\n",
        "    A,D = B.left, B.right\n",
        "    C,E = D.left,D.right\n",
        "\n",
        "    B,D = D,B\n",
        "    B.val , D.val = D.val , B.val\n",
        "\n",
        "    D.left,D.right = B , E\n",
        "    B.left , B.right = A , C\n",
        "\n",
        "    if A : A.parent =B\n",
        "    if E : E.parent = D\n",
        "\n",
        "    B.subtree_update(),D.subtree_update()\n",
        "\n",
        "\n",
        "\n"
      ]
    },
    {
      "cell_type": "code",
      "execution_count": 68,
      "metadata": {
        "colab": {
          "base_uri": "https://localhost:8080/"
        },
        "id": "ybD7unfK4lIH",
        "outputId": "d0d2e38a-d02f-42eb-c85e-236ada53a64b"
      },
      "outputs": [
        {
          "output_type": "stream",
          "name": "stdout",
          "text": [
            "{9: [38], 38: []}\n",
            "{38: [9, 45], 9: [], 45: []}\n",
            "{38: [9, 45], 9: [], 45: [43], 43: []}\n",
            "{43: [38, 45], 38: [9, 42], 9: [], 42: [], 45: []}\n",
            "{43: [38, 45], 38: [9, 42], 9: [11], 11: [], 42: [], 45: []}\n",
            "{43: [38, 45], 38: [11, 42], 11: [9, 22], 9: [], 22: [], 42: [], 45: []}\n",
            "{43: [38, 45], 38: [11, 42], 11: [9, 22], 9: [], 22: [], 42: [41], 41: [], 45: []}\n",
            "{38: [11, 43], 11: [9, 22], 9: [2], 2: [], 22: [], 43: [42, 45], 42: [41], 41: [], 45: []}\n",
            "{38: [11, 43], 11: [9, 22], 9: [2], 2: [], 22: [], 43: [42, 45], 42: [41], 41: [], 45: [47], 47: []}\n",
            "{38: [11, 43], 11: [9, 22], 9: [2], 2: [], 22: [21], 21: [], 43: [42, 45], 42: [41], 41: [], 45: [47], 47: []}\n",
            "{38: [11, 43], 11: [9, 22], 9: [2], 2: [], 22: [21], 21: [], 43: [42, 45], 42: [41], 41: [], 45: [44, 47], 44: [], 47: []}\n",
            "{38: [11, 43], 11: [9, 22], 9: [2], 2: [], 22: [21, 23], 21: [], 23: [], 43: [42, 45], 42: [41], 41: [], 45: [44, 47], 44: [], 47: []}\n",
            "{38: [11, 43], 11: [9, 22], 9: [2], 2: [], 22: [21, 23], 21: [], 23: [35], 35: [], 43: [42, 45], 42: [41], 41: [], 45: [44, 47], 44: [], 47: []}\n",
            "{38: [11, 43], 11: [9, 22], 9: [2], 2: [], 22: [21, 34], 21: [], 34: [23, 35], 23: [], 35: [], 43: [42, 45], 42: [41], 41: [], 45: [44, 47], 44: [], 47: []}\n",
            "{38: [11, 43], 11: [9, 22], 9: [2], 2: [], 22: [21, 34], 21: [13], 13: [], 34: [23, 35], 23: [], 35: [], 43: [42, 45], 42: [41], 41: [], 45: [44, 47], 44: [], 47: []}\n"
          ]
        }
      ],
      "source": [
        "Tree  = AVL()\n",
        "Tree.root = Binary_Node(9)\n",
        "import random\n",
        "sample = random.sample(range(50),15)\n",
        "for i in sample: Tree.insert(Binary_Node(i))"
      ]
    },
    {
      "cell_type": "code",
      "execution_count": 69,
      "metadata": {
        "id": "fj3XlLzo4zpB"
      },
      "outputs": [],
      "source": [
        "def f(node):\n",
        "  if not node  : return None\n",
        "  if node.skew() in [2,-2]:print('False')\n",
        "  f(node.left),f(node.right)"
      ]
    },
    {
      "cell_type": "code",
      "source": [
        "f(Tree.root)"
      ],
      "metadata": {
        "id": "iB_TyK9R5crn"
      },
      "execution_count": 70,
      "outputs": []
    },
    {
      "cell_type": "code",
      "source": [],
      "metadata": {
        "id": "VWhZD0SQ5deo"
      },
      "execution_count": null,
      "outputs": []
    }
  ],
  "metadata": {
    "colab": {
      "provenance": []
    },
    "kernelspec": {
      "display_name": "Python 3",
      "name": "python3"
    },
    "language_info": {
      "name": "python"
    }
  },
  "nbformat": 4,
  "nbformat_minor": 0
}